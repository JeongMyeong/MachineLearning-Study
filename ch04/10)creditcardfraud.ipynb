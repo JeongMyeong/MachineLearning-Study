{
 "cells": [
  {
   "cell_type": "markdown",
   "metadata": {},
   "source": [
    "### Kaggle의 신용카드 데이터 세트를 이용한 신용카드 사기 검출 분류 실습\n",
    "- [데이터 다운로드](http://www.kaggle.com/mlg-ulb/creditcardfraud)\n",
    "- 해당 데이터 세트의 레이블인 Class 속성은 매우 불균형한 분포를 가지고 있다.\n",
    "- 1은 신용카드 사기 트랜잭션을 의미하는데 전체 데이터의 0.172%만 레이블값이 1이다.\n",
    "- 사기와 같은 이상 현상은 전체 데이터에서 차지하는 비중이 매우 적기 때문이다."
   ]
  },
  {
   "cell_type": "markdown",
   "metadata": {},
   "source": [
    "### <언더 샘플링과 오버 샘플링>\n",
    "- 일방적으로 정상 레이블로 치우친 학습을 수행해 제대로 된 이상 데이터 검출은 어려워진다.\n",
    "- 지도학습에 극도로 불균형한 레이블 값 분포로 인한 문제점을 해결하기 위해선 오버샘플링, 언더샘플링 방법이 있고 오버샘플링 방식이 예측 성능상 더 유리한 경우가 많다.\n",
    "- 언더 샘플링 \n",
    "        많은 레이블을 가진 데이터 세트를 적은 레이블을 가진 데이터 세트 수준으로 감소\n",
    "- 오버 샘플링\n",
    "        적은 레이블을 가진 데이터 세트를 많은 레이블을 가진 데이터 세트 수준으로 증식\n",
    "        동일한 데이터를 단순히 증식하는 방법은 과적합되기 때문에 의미가 없다. 그래서 원본 데이터의 피처 값들을 약간만 변경하여 \n",
    "        증식한다.\n",
    "        SMOTE(Synthetic Minority Over-sampling Techniique) 방법이 있다.\n",
    "        적은 데이터 세트에 있는 개별 데이터들의 K최근접 이웃을 찾아서 이 데이터와 K개 이웃들의 차이를 일정 값으로 만들어서 기존 \n",
    "        데이터와 약간 차이가 나는 새로운 데이터들을 생성하는 방식\n",
    "        SMOTE를 구현한 파이썬 패키지는 imbalanced-learn이다.\n",
    "        이를 이용하여 데이터 증식을 해본다.\n",
    "        "
   ]
  },
  {
   "cell_type": "markdown",
   "metadata": {},
   "source": [
    "### 데이터 1차 가공 및 모델 학습/예측/평가"
   ]
  },
  {
   "cell_type": "code",
   "execution_count": 1,
   "metadata": {},
   "outputs": [],
   "source": [
    "import pandas as pd\n",
    "import numpy as np\n",
    "import matplotlib.pyplot as plt\n",
    "import warnings\n",
    "warnings.filterwarnings(\"ignore\")\n",
    "\n",
    "card_df=pd.read_csv('./data/creditcard.csv')\n",
    "card_df.head()"
   ]
  },
  {
   "cell_type": "code",
   "execution_count": 2,
   "metadata": {},
   "outputs": [
    {
     "data": {
      "text/plain": [
       "Index(['Time', 'V1', 'V2', 'V3', 'V4', 'V5', 'V6', 'V7', 'V8', 'V9', 'V10',\n",
       "       'V11', 'V12', 'V13', 'V14', 'V15', 'V16', 'V17', 'V18', 'V19', 'V20',\n",
       "       'V21', 'V22', 'V23', 'V24', 'V25', 'V26', 'V27', 'V28', 'Amount',\n",
       "       'Class'],\n",
       "      dtype='object')"
      ]
     },
     "execution_count": 2,
     "metadata": {},
     "output_type": "execute_result"
    }
   ],
   "source": [
    "card_df.columns"
   ]
  },
  {
   "cell_type": "markdown",
   "metadata": {},
   "source": [
    "- V로 시작하는 피처들의 의미는 알 수가 없다.\n",
    "- Time 피처의 경우 큰 의미가 없기에 제거.\n",
    "- Amount 피처는 신용카드 트랙잭션 금액\n",
    "- Class는 레이블로 0의경우 정상 1의 경우 사기\n",
    "\n",
    "\n"
   ]
  },
  {
   "cell_type": "markdown",
   "metadata": {},
   "source": [
    "### 데이터 전처리\n",
    "- 입력된 DataFrame을 복사한 뒤 이를 가고앟여 반환하는 get_preprocessed_df() 함수.\n",
    "- 데이터 가공 후 학습/테스트 데이터 세트를 반환하는 get_train_test_df() 함수.\n"
   ]
  },
  {
   "cell_type": "code",
   "execution_count": 3,
   "metadata": {},
   "outputs": [],
   "source": [
    "from sklearn.model_selection import train_test_split\n",
    "\n",
    "# 인자로 입력받은 DataFrame을 복사하고 Time 컬럼만 삭제하고 복사된 DataFrame 반환\n",
    "def get_preprocessed_df(df=None):\n",
    "    df_copy = df.copy()\n",
    "    df_copy.drop('Time', axis=1, inplace=True)\n",
    "    return df_copy\n"
   ]
  },
  {
   "cell_type": "code",
   "execution_count": 4,
   "metadata": {},
   "outputs": [],
   "source": [
    "# 사전 데이터 가공 후 학습과 테스트 데이터 세트를 반환\n",
    "def get_train_test_dataset(df=None):\n",
    "    # 인자로 입력된 DataFrame의 사전 데이터 가공이 완료된 복사 DataFrame 반환\n",
    "    df_copy = get_preprocessed_df(df)\n",
    "    # DataFrame의 맨 마지막 칼럼이 레이블, 나머지는 피처들\n",
    "    X_features = df_copy.iloc[:,:-1]\n",
    "    y_target = df_copy.iloc[:,-1]\n",
    "    \n",
    "    # train_test_split()으로 학습과 테스트 데이터 분할. stratify=y_target으로 Stratified 기반 분할\n",
    "    X_train, X_test, y_train, y_test = train_test_split(X_features, y_target, test_size=0.3, random_state=0, stratify=y_target)\n",
    "    #학습과 테스트 데이터 세트 반환\n",
    "    return X_train, X_test, y_train, y_test\n",
    "\n",
    "X_train, X_test, y_train, y_test = get_train_test_dataset(card_df)"
   ]
  },
  {
   "cell_type": "code",
   "execution_count": 5,
   "metadata": {},
   "outputs": [
    {
     "name": "stdout",
     "output_type": "stream",
     "text": [
      "학습 데이터 레이블 값 비율\n",
      "0    99.827451\n",
      "1     0.172549\n",
      "Name: Class, dtype: float64\n",
      "테스트 데이터 레이블 값 비율\n",
      "0    99.826785\n",
      "1     0.173215\n",
      "Name: Class, dtype: float64\n"
     ]
    }
   ],
   "source": [
    "print('학습 데이터 레이블 값 비율')\n",
    "print(y_train.value_counts()/y_train.shape[0]*100)\n",
    "print('테스트 데이터 레이블 값 비율')\n",
    "print(y_test.value_counts()/y_test.shape[0]*100)"
   ]
  },
  {
   "cell_type": "markdown",
   "metadata": {},
   "source": [
    "- 학습/테스트 데이터들의 레이블 1의 값이 1.72, 1.73으로 큰 차이 없이 잘 분할 됐다.\n",
    "- 모델을 생성한다. 로지스틱 회귀, LGBM 기반 모델이 데이터 가공을 수행하면서 예측 성능이 어떻게 변하는지 살펴본다."
   ]
  },
  {
   "cell_type": "code",
   "execution_count": 6,
   "metadata": {},
   "outputs": [],
   "source": [
    "def get_clf_eval(y_test, pred):\n",
    "    from sklearn.metrics import accuracy_score, precision_score, recall_score, confusion_matrix,f1_score,roc_auc_score\n",
    "\n",
    "    confusion = confusion_matrix(y_test, pred)\n",
    "    accuracy = accuracy_score(y_test, pred)\n",
    "    precision = precision_score(y_test, pred)\n",
    "    recall = recall_score(y_test, pred)\n",
    "    f1 = f1_score(y_test, pred)\n",
    "    roc_auc = roc_auc_score(y_test, pred)\n",
    "    print('오차 행렬')\n",
    "    print(confusion)\n",
    "    print(\"정확도 : {:.4f}, 정밀도 : {:.4f}, 재현율 : {:.4f}, F1 :{:.4f}, ROC-AUC : {:.4f}\".format(accuracy, precision, recall,f1, roc_auc))\n",
    "  "
   ]
  },
  {
   "cell_type": "code",
   "execution_count": 7,
   "metadata": {},
   "outputs": [
    {
     "name": "stdout",
     "output_type": "stream",
     "text": [
      "오차 행렬\n",
      "[[85282    13]\n",
      " [   58    90]]\n",
      "정확도 : 0.9992, 정밀도 : 0.8738, 재현율 : 0.6081, F1 :0.7171, ROC-AUC : 0.8040\n"
     ]
    }
   ],
   "source": [
    "from sklearn.linear_model import LogisticRegression\n",
    "\n",
    "lr_clf = LogisticRegression()\n",
    "lr_clf.fit(X_train, y_train)\n",
    "lr_pred = lr_clf.predict(X_test)\n",
    "get_clf_eval(y_test, lr_pred)"
   ]
  },
  {
   "cell_type": "markdown",
   "metadata": {},
   "source": [
    "- 별도의 테스트 데이터 세트로 측정 할 때 재현율이 약 60.81%, ROC-AUC가 80.4%이다.\n",
    "- 이번에는 LGBM 모델을 만들어본다.\n",
    "- 반복적으로 모델을 변경해 학습/예측/평가 할 것이므로 이를 위한 별도의 함수를 생성한다."
   ]
  },
  {
   "cell_type": "code",
   "execution_count": 8,
   "metadata": {},
   "outputs": [],
   "source": [
    "# 인자로 사이킷런의 Estimator 객체와 학습/테스트 데이터 세트를 입력 받아 학습/예측/평가를 수행\n",
    "def get_model_train_eval(model, ftr_train=None, ftr_test=None, tgt_train=None, tgt_test=None):\n",
    "    model.fit(ftr_train, tgt_train)\n",
    "    pred = model.predict(ftr_test)\n",
    "    get_clf_eval(tgt_test, pred)\n",
    "    "
   ]
  },
  {
   "cell_type": "code",
   "execution_count": 9,
   "metadata": {},
   "outputs": [
    {
     "name": "stdout",
     "output_type": "stream",
     "text": [
      "오차 행렬\n",
      "[[85289     6]\n",
      " [   36   112]]\n",
      "정확도 : 0.9995, 정밀도 : 0.9492, 재현율 : 0.7568, F1 :0.8421, ROC-AUC : 0.8783\n"
     ]
    }
   ],
   "source": [
    "from lightgbm import LGBMClassifier\n",
    "lgbm_clf = LGBMClassifier(n_estimators=1000, num_leaves=64, n_jobs=-1, boost_from_average=False)\n",
    "get_model_train_eval(lgbm_clf, ftr_train= X_train, ftr_test=X_test, tgt_train=y_train, tgt_test=y_test)"
   ]
  },
  {
   "cell_type": "markdown",
   "metadata": {},
   "source": [
    "- 재현율 75.68%, ROC-AUC 87.83%로 로지스틱 회귀보단 높은 점수.\n"
   ]
  },
  {
   "cell_type": "markdown",
   "metadata": {},
   "source": [
    "### 데이터 분포도 변환 후 모델 학습/예측/평가\n",
    "- 왜곡된 분포도를 가지는 데이터를 재가공한 뒤 모델을 다시 테스트\n",
    "- 로지스틱회귀는 선형모델로 선형모델은 중요피처들의 값이 정규분포 형태를 유지하는것을 선호한다.\n",
    "- Amount 피처는 이 데이터에서 중요한 속성일 가능성이 높으므로 Amount 피처의 분포도를 보도록한다."
   ]
  },
  {
   "cell_type": "code",
   "execution_count": 10,
   "metadata": {},
   "outputs": [
    {
     "data": {
      "image/png": "[encoded data removed]",
      "text/plain": [
       "<Figure size 576x288 with 1 Axes>"
      ]
     },
     "metadata": {
      "needs_background": "light"
     },
     "output_type": "display_data"
    }
   ],
   "source": [
    "import seaborn as sns\n",
    "plt.figure(figsize=(8,4))\n",
    "plt.xticks(range(0,30000,1000), rotation=60)\n",
    "sns.distplot(card_df['Amount'])\n",
    "plt.show()"
   ]
  },
  {
   "cell_type": "markdown",
   "metadata": {},
   "source": [
    "- 사용금액이 1000불 이하인 데이터가 대부분이고 27000불 까지 종종 데이터가 있다.\n",
    "- 앞의 get_preprocessed_df() 함수를 수정한다."
   ]
  },
  {
   "cell_type": "code",
   "execution_count": 11,
   "metadata": {},
   "outputs": [],
   "source": [
    "from sklearn.preprocessing import StandardScaler\n",
    "def get_preprocessed_df(df=None):\n",
    "    df_copy = df.copy()\n",
    "    scaler = StandardScaler()\n",
    "    amount_n = scaler.fit_transform(df_copy['Amount'].values.reshape(-1,1))\n",
    "    df_copy.insert(0, 'Amount_Scaled', amount_n)\n",
    "    df_copy.drop(['Time','Amount'], axis=1, inplace=True)\n",
    "    \n",
    "    return df_copy"
   ]
  },
  {
   "cell_type": "markdown",
   "metadata": {},
   "source": [
    "- 함수를 수정 후 로지스틱회귀, LGBM 모델을 각각 학습/예측/평가 해본다."
   ]
  },
  {
   "cell_type": "code",
   "execution_count": 12,
   "metadata": {},
   "outputs": [
    {
     "name": "stdout",
     "output_type": "stream",
     "text": [
      "### 로지스틱 회귀 예측 성능 ###\n",
      "오차 행렬\n",
      "[[85281    14]\n",
      " [   58    90]]\n",
      "정확도 : 0.9992, 정밀도 : 0.8654, 재현율 : 0.6081, F1 :0.7143, ROC-AUC : 0.8040\n",
      "### LGBM 예측 성능\n",
      "오차 행렬\n",
      "[[85289     6]\n",
      " [   36   112]]\n",
      "정확도 : 0.9995, 정밀도 : 0.9492, 재현율 : 0.7568, F1 :0.8421, ROC-AUC : 0.8783\n"
     ]
    }
   ],
   "source": [
    "X_train, X_test, y_train, y_test = get_train_test_dataset(card_df)\n",
    "\n",
    "print('### 로지스틱 회귀 예측 성능 ###')\n",
    "lr_clf = LogisticRegression()\n",
    "get_model_train_eval(lr_clf, X_train, X_test, y_train, y_test)\n",
    "\n",
    "print('### LGBM 예측 성능')\n",
    "lgbm_clf = LGBMClassifier(n_estimators=1000, num_leaves=64, n_jobs=-1, boost_from_average=False)\n",
    "get_model_train_eval(lgbm_clf, X_train, X_test, y_train, y_test)\n"
   ]
  },
  {
   "cell_type": "markdown",
   "metadata": {},
   "source": [
    "- 변화가 없다.\n",
    "- 이번에는 StandardScaler가 아니라 로그 변환을 수행해 본다.\n",
    "- get_preprocessed_df()를 수정 후 확인해본다."
   ]
  },
  {
   "cell_type": "code",
   "execution_count": 13,
   "metadata": {},
   "outputs": [],
   "source": [
    "def get_preprocessed_df(df=None):\n",
    "    df_copy = df.copy()\n",
    "    amount_n = np.log1p(df_copy['Amount'])\n",
    "    df_copy.insert(0, 'Amount_Scaled', amount_n)\n",
    "    df_copy.drop(['Time','Amount'], axis=1, inplace=True)\n",
    "    \n",
    "    return df_copy"
   ]
  },
  {
   "cell_type": "code",
   "execution_count": 14,
   "metadata": {},
   "outputs": [
    {
     "name": "stdout",
     "output_type": "stream",
     "text": [
      "### 로지스틱 회귀 예측 성능 ###\n",
      "오차 행렬\n",
      "[[85283    12]\n",
      " [   58    90]]\n",
      "정확도 : 0.9992, 정밀도 : 0.8824, 재현율 : 0.6081, F1 :0.7200, ROC-AUC : 0.8040\n",
      "### LGBM 예측 성능\n",
      "오차 행렬\n",
      "[[85290     5]\n",
      " [   35   113]]\n",
      "정확도 : 0.9995, 정밀도 : 0.9576, 재현율 : 0.7635, F1 :0.8496, ROC-AUC : 0.8817\n"
     ]
    }
   ],
   "source": [
    "X_train, X_test, y_train, y_test = get_train_test_dataset(card_df)\n",
    "\n",
    "print('### 로지스틱 회귀 예측 성능 ###')\n",
    "lr_clf = LogisticRegression()\n",
    "get_model_train_eval(lr_clf, X_train, X_test, y_train, y_test)\n",
    "\n",
    "print('### LGBM 예측 성능')\n",
    "lgbm_clf = LGBMClassifier(n_estimators=1000, num_leaves=64, n_jobs=-1, boost_from_average=False)\n",
    "get_model_train_eval(lgbm_clf, X_train, X_test, y_train, y_test)\n"
   ]
  },
  {
   "cell_type": "markdown",
   "metadata": {},
   "source": [
    "- 두 모델 약간씩 성능 개선이 됐지만 미비한 수준.\n"
   ]
  },
  {
   "cell_type": "markdown",
   "metadata": {},
   "source": [
    "### < 이상치 데이터 제거 후 모델 학습/예측/평가 >"
   ]
  },
  {
   "cell_type": "markdown",
   "metadata": {},
   "source": [
    "- 이상치를 찾는 방법은 여러가지가 있지만 IQR(Inter Quantile Range) 방식을 적용해본다.\n",
    "- IQR은 사분위 값의 편차를 이용하는 기법. 박스플롯으로 시각화할 수 있다.\n",
    "- 25% 구간인 Q1, ~75% 구간잉ㄴ Q3의 범위를 IQR 이라고 한다.\n",
    "- IQR을 이용해 이상치 데이터를 검 출하는 방식은 보통 IQR에 1.5를 곱해 생성된 범위를 이용해서 최댓값과 최솟값을 결정한 뒤 최댓값을 초과하거나 최솟값에 미달하는 데이터를 이상치 데이터로 판단한다.\n",
    "- 경우에 따라 1.5가 아닌 다름 값을 적용할 수도 있지만 보통은 1.5를 적용한다."
   ]
  },
  {
   "cell_type": "code",
   "execution_count": 15,
   "metadata": {},
   "outputs": [
    {
     "data": {
      "image/png": "[encoded data removed]",
      "text/plain": [
       "<Figure size 648x648 with 2 Axes>"
      ]
     },
     "metadata": {
      "needs_background": "light"
     },
     "output_type": "display_data"
    }
   ],
   "source": [
    "import seaborn as sns\n",
    "plt.figure(figsize=(9,9))\n",
    "corr = card_df.corr()\n",
    "sns.heatmap(corr, cmap='RdBu')\n",
    "plt.show()"
   ]
  },
  {
   "cell_type": "markdown",
   "metadata": {},
   "source": [
    "- 히트맵에서 cmap을 'RdBu'로 설정하면 양의 상관관계에 가까울수록 색깔이 진한 파란색이 가깝고 음의 상관관계에 가까울수록 진한 빨간색에 가깝게 표현된다.\n",
    "- Class 피처와 음의 상관관계가 가장 높은 피처는 V14 와 V17로 이 중 V14에 대해서 이상치를 찾아서 제거해보도록한다."
   ]
  },
  {
   "cell_type": "code",
   "execution_count": 16,
   "metadata": {},
   "outputs": [],
   "source": [
    "import numpy as np\n",
    "\n",
    "def get_outlier(df=None, column=None, weight=1.5):\n",
    "    # fraud에 해당하는 column 데이터만 추출,1/4, 3/4 분위 지점을 np.percentile로 구한다.\n",
    "    fraud = df[df['Class']==1][column]\n",
    "    quantile_25 = np.percentile(fraud.values, 25)\n",
    "    quantile_75 = np.percentile(fraud.values, 75)\n",
    "    #IQR을 구하고 IQR에 1.5를 곱해 최댓값, 최솟값 지점을 구한다.\n",
    "    \n",
    "    iqr = quantile_75 - quantile_25\n",
    "    iqr_weight = iqr*weight\n",
    "    lowest_val= quantile_25-iqr_weight\n",
    "    highest_val = quantile_75+iqr_weight\n",
    "    \n",
    "    # 최댓값보다 크거나 최솟값보다 작은 값을 이상치 데이터로 설저앟고 DataFrame index 반환\n",
    "    outlier_index = fraud[(fraud<lowest_val) | (fraud > highest_val)].index\n",
    "    return outlier_index"
   ]
  },
  {
   "cell_type": "code",
   "execution_count": 17,
   "metadata": {},
   "outputs": [
    {
     "name": "stdout",
     "output_type": "stream",
     "text": [
      "이상치 데이터 인덱스  Int64Index([8296, 8615, 9035, 9252], dtype='int64')\n"
     ]
    }
   ],
   "source": [
    "outlier_index = get_outlier(df = card_df, column='V14', weight=1.5)\n",
    "print('이상치 데이터 인덱스 ', outlier_index)"
   ]
  },
  {
   "cell_type": "markdown",
   "metadata": {},
   "source": [
    "- 총 4개의 데이터가 추출됐다.  \n",
    "- get_outlier()를 get_preprocessed_df 함수에 추가해 가공한 뒤 LGBM 모델에 적용해본다"
   ]
  },
  {
   "cell_type": "code",
   "execution_count": 18,
   "metadata": {},
   "outputs": [],
   "source": [
    "def get_preprocessed_df(df=None):\n",
    "    df_copy = df.copy()\n",
    "    amount_n = np.log1p(df_copy['Amount'])\n",
    "    df_copy.insert(0, 'Amount_Scaled', amount_n)\n",
    "    df_copy.drop(['Time','Amount'], axis=1, inplace=True)\n",
    "    \n",
    "    outlier_index = get_outlier(df=df_copy, column='V14', weight=1.5)\n",
    "    df_copy.drop(outlier_index, axis=0, inplace=True)\n",
    "    return df_copy"
   ]
  },
  {
   "cell_type": "code",
   "execution_count": 19,
   "metadata": {},
   "outputs": [
    {
     "name": "stdout",
     "output_type": "stream",
     "text": [
      "### 로지스틱 회귀 예측 성능 ###\n",
      "오차 행렬\n",
      "[[85282    13]\n",
      " [   48    98]]\n",
      "정확도 : 0.9993, 정밀도 : 0.8829, 재현율 : 0.6712, F1 :0.7626, ROC-AUC : 0.8355\n",
      "### LGBM 예측 성능\n",
      "오차 행렬\n",
      "[[85291     4]\n",
      " [   25   121]]\n",
      "정확도 : 0.9997, 정밀도 : 0.9680, 재현율 : 0.8288, F1 :0.8930, ROC-AUC : 0.9144\n"
     ]
    }
   ],
   "source": [
    "X_train, X_test, y_train, y_test = get_train_test_dataset(card_df)\n",
    "\n",
    "print('### 로지스틱 회귀 예측 성능 ###')\n",
    "lr_clf = LogisticRegression()\n",
    "get_model_train_eval(lr_clf, X_train, X_test, y_train, y_test)\n",
    "\n",
    "print('### LGBM 예측 성능')\n",
    "lgbm_clf = LGBMClassifier(n_estimators=1000, num_leaves=64, n_jobs=-1, boost_from_average=False)\n",
    "get_model_train_eval(lgbm_clf, X_train, X_test, y_train, y_test)\n"
   ]
  },
  {
   "cell_type": "markdown",
   "metadata": {},
   "source": [
    "- 두 모델 모두 예측성능이 크게 향상됐다.\n",
    "- 로지스틱 회귀는 60.81% -> 67.12%\n",
    "- LGBM 은 76.35% -> 82.88%"
   ]
  },
  {
   "cell_type": "markdown",
   "metadata": {},
   "source": [
    "### < SMOTE 오버 샘플링 적용 후 모델 학습/예측/평가 >\n",
    "- imbalanced-learn 패키지의 SMOTE클래스를 이용하여 구현"
   ]
  },
  {
   "cell_type": "code",
   "execution_count": 20,
   "metadata": {},
   "outputs": [
    {
     "name": "stdout",
     "output_type": "stream",
     "text": [
      "SMOTE 적용 전 학습용 피처/레이블 데이터 세트 :  (199362, 29) (199362,)\n",
      "SMOTE 적용 후 학습용 피처/레이블 데이터 세트 :  (398040, 29) (398040,)\n",
      "SMOTE 적용 후 레이블 값 분포 : \n",
      " 1    199020\n",
      "0    199020\n",
      "dtype: int64\n"
     ]
    }
   ],
   "source": [
    "from imblearn.over_sampling import SMOTE\n",
    "\n",
    "smote = SMOTE(random_state=0)\n",
    "X_train_over, y_train_over = smote.fit_sample(X_train, y_train)\n",
    "print('SMOTE 적용 전 학습용 피처/레이블 데이터 세트 : ', X_train.shape, y_train.shape)\n",
    "print('SMOTE 적용 후 학습용 피처/레이블 데이터 세트 : ', X_train_over.shape, y_train_over.shape)\n",
    "print('SMOTE 적용 후 레이블 값 분포 : \\n', pd.Series(y_train_over).value_counts())"
   ]
  },
  {
   "cell_type": "markdown",
   "metadata": {},
   "source": [
    "- 이렇게 생성된 학습 데이터 세트를 기반으로 로지스틱 회귀 모델을 학습한 뒤 성능 평가를 해본다."
   ]
  },
  {
   "cell_type": "code",
   "execution_count": 21,
   "metadata": {},
   "outputs": [
    {
     "name": "stdout",
     "output_type": "stream",
     "text": [
      "오차 행렬\n",
      "[[82932  2363]\n",
      " [   11   135]]\n",
      "정확도 : 0.9722, 정밀도 : 0.0540, 재현율 : 0.9247, F1 :0.1021, ROC-AUC : 0.9485\n"
     ]
    }
   ],
   "source": [
    "lr_clf = LogisticRegression()\n",
    "get_model_train_eval(lr_clf, X_train_over, X_test, y_train_over, y_test)"
   ]
  },
  {
   "cell_type": "markdown",
   "metadata": {},
   "source": [
    "- 재현율이 92.47%로 크게 증가 했지만 반대로 정밀도가 5.4%로 급격하게 떨어졌다.\n",
    "- 재현율이 높더라도 저조한 정밀도면 현실 업무에 적용할 수 없다.\n",
    "- 이는 로지스틱 회귀 모델이 오버 샘플리으로 인해 실제 원본 데이터의 유형보다 많은 Class=1 데이터를 학습하여 실제 테스트 데이터 세트에서도 Class=1로 많이 예측하여 정밀도가 급격히 떨어졌다.\n",
    "- 분류결정 임곗값에 따른 정밀도,재현율 곡선을 통해서 SMOTE로 학습된 로지스틱 회귀 모델을 살펴본다.\n"
   ]
  },
  {
   "cell_type": "code",
   "execution_count": 24,
   "metadata": {},
   "outputs": [],
   "source": [
    "from sklearn.metrics import precision_recall_curve\n",
    "def precision_recall_curve_plot(y_test, pred_proba_c1):\n",
    "    # threshold ndarray와 이 threshold에 따른 정밀도, 재현율 ndarray 추출.\n",
    "    precisions, recalls, thresholds = precision_recall_curve(y_test, pred_proba_c1)\n",
    "    \n",
    "    # X 축을 threshold 값으로, Y축은 정밀도, 재현율 값으로 각각 plot 수행. 정밀도는 점선으로\n",
    "    plt.figure(figsize=(8,6))\n",
    "    threshold_boundary = thresholds.shape[0]\n",
    "    plt.plot(thresholds, precisions[0:threshold_boundary], linestyle='--', label='precision')\n",
    "    plt.plot(thresholds, recalls[0:threshold_boundary], label='recall')\n",
    "    \n",
    "    # threshold 값 X 축의 Scale을 0.1단위로 변경\n",
    "    start, end = plt.xlim()\n",
    "    plt.xticks(np.round(np.arange(start, end, 0.1),2))\n",
    "    \n",
    "    # x 축, y축 label과 legend, 그리고 grid 설정\n",
    "    plt.xlabel('Threshold value')\n",
    "    plt.ylabel('Precision and Recall value')\n",
    "    plt.legend()\n",
    "    plt.grid()\n",
    "    plt.show()"
   ]
  },
  {
   "cell_type": "code",
   "execution_count": 25,
   "metadata": {},
   "outputs": [
    {
     "data": {
      "image/png": "[encoded data removed]",
      "text/plain": [
       "<Figure size 576x432 with 1 Axes>"
      ]
     },
     "metadata": {
      "needs_background": "light"
     },
     "output_type": "display_data"
    }
   ],
   "source": [
    "precision_recall_curve_plot(y_test, lr_clf.predict_proba(X_test)[:,1])"
   ]
  },
  {
   "cell_type": "markdown",
   "metadata": {},
   "source": [
    "- 임곗값이 0.99 이하에서 재현율이 매우좋고 정밀도가 극단적으로 낮다가 0.99 이상에서는 반대로 재현율이 대폭 떨어지고 정밀도가 높아진다.\n",
    "- 분류결정 임곗값을 조정해도 민감도가 너무 심해 좋은 성능을 기대하기가 어렵다.\n",
    "- 이번에는 LGBM 모델로 학습/예측/평가 한다."
   ]
  },
  {
   "cell_type": "code",
   "execution_count": 26,
   "metadata": {},
   "outputs": [
    {
     "name": "stdout",
     "output_type": "stream",
     "text": [
      "오차 행렬\n",
      "[[85286     9]\n",
      " [   22   124]]\n",
      "정확도 : 0.9996, 정밀도 : 0.9323, 재현율 : 0.8493, F1 :0.8889, ROC-AUC : 0.9246\n"
     ]
    }
   ],
   "source": [
    "lgbm_clf = LGBMClassifier(n_estimators=1000, num_leaves=64, n_jobs=-1, boost_from_average=False)\n",
    "get_model_train_eval(lgbm_clf, X_train_over, X_test, y_train_over, y_test)"
   ]
  },
  {
   "cell_type": "markdown",
   "metadata": {},
   "source": [
    "- 재현율이 이상치만 제거한 경우인 82.88%보다 높은 84.93%가 되었지만 정밀도는 더 낮아졌다.\n",
    "- SMOTE를 적용하면 대부분 재현율은 높아지지만 정밀도는 낮아지는 것이 일반적이다."
   ]
  }
 ],
 "metadata": {
  "kernelspec": {
   "display_name": "tensorflow",
   "language": "python",
   "name": "tensorflow"
  },
  "language_info": {
   "codemirror_mode": {
    "name": "ipython",
    "version": 3
   },
   "file_extension": ".py",
   "mimetype": "text/x-python",
   "name": "python",
   "nbconvert_exporter": "python",
   "pygments_lexer": "ipython3",
   "version": "3.6.8"
  }
 },
 "nbformat": 4,
 "nbformat_minor": 2
}
